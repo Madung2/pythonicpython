{
  "nbformat": 4,
  "nbformat_minor": 0,
  "metadata": {
    "colab": {
      "name": "파이썬을 파이썬답게1.ipynb",
      "provenance": [],
      "authorship_tag": "ABX9TyOsmYY4i7KkLNSn5EYBlPJ7",
      "include_colab_link": true
    },
    "kernelspec": {
      "name": "python3",
      "display_name": "Python 3"
    },
    "language_info": {
      "name": "python"
    }
  },
  "cells": [
    {
      "cell_type": "markdown",
      "metadata": {
        "id": "view-in-github",
        "colab_type": "text"
      },
      "source": [
        "<a href=\"https://colab.research.google.com/github/Madung2/pythonicpython/blob/main/%ED%8C%8C%EC%9D%B4%EC%8D%AC%EC%9D%84_%ED%8C%8C%EC%9D%B4%EC%8D%AC%EB%8B%B5%EA%B2%8C1.ipynb\" target=\"_parent\"><img src=\"https://colab.research.google.com/assets/colab-badge.svg\" alt=\"Open In Colab\"/></a>"
      ]
    },
    {
      "cell_type": "markdown",
      "source": [
        "수강전 문제 미리 보기"
      ],
      "metadata": {
        "id": "xp6uvkFV1_O8"
      }
    },
    {
      "cell_type": "code",
      "execution_count": 1,
      "metadata": {
        "colab": {
          "base_uri": "https://localhost:8080/"
        },
        "id": "O9oUY5lO1OC6",
        "outputId": "4002fcdf-a22c-464c-c4a9-e0c21ddd5275"
      },
      "outputs": [
        {
          "output_type": "stream",
          "name": "stdout",
          "text": [
            "[2, 2, 1]\n"
          ]
        }
      ],
      "source": [
        "mylist = [[1, 2], [3, 4], [5]]\n",
        "output= [len(i) for i in mylist]\n",
        "print(output)"
      ]
    },
    {
      "cell_type": "code",
      "source": [
        "def solution(mylist):\n",
        "    return [len(i) for i in mylist]"
      ],
      "metadata": {
        "id": "Gb0wuwQT2C8Q"
      },
      "execution_count": null,
      "outputs": []
    },
    {
      "cell_type": "markdown",
      "source": [
        "***몫과 나머지 ***\n",
        "\n",
        "숫자 a, b가 주어졌을 때 a를 b로 나눈 몫과 a를 b로 나눈 나머지를 공백으로 구분해 출력해보세요."
      ],
      "metadata": {
        "id": "PEeyLJa22hCI"
      }
    },
    {
      "cell_type": "code",
      "source": [
        "a,b = map(int, input().split())\n",
        "print(f'{a//b} {a%b}')"
      ],
      "metadata": {
        "colab": {
          "base_uri": "https://localhost:8080/"
        },
        "id": "Qatq2mSS2m94",
        "outputId": "97461b25-8e1d-4d8a-cf02-61d46f2f177b"
      },
      "execution_count": 2,
      "outputs": [
        {
          "output_type": "stream",
          "name": "stdout",
          "text": [
            "5 3\n",
            "1 2\n"
          ]
        }
      ]
    },
    {
      "cell_type": "code",
      "source": [
        "a,b = map(int, input().split())\n",
        "print(divmod(5,3))"
      ],
      "metadata": {
        "colab": {
          "base_uri": "https://localhost:8080/"
        },
        "id": "XixgO5nP36eX",
        "outputId": "afa0b278-42ba-4dc5-d80e-bae1b77e2b23"
      },
      "execution_count": 3,
      "outputs": [
        {
          "output_type": "stream",
          "name": "stdout",
          "text": [
            "5 3\n",
            "(1, 2)\n"
          ]
        }
      ]
    },
    {
      "cell_type": "code",
      "source": [
        "a,b = map(int, input().split())\n",
        "print(*divmod(5,3))"
      ],
      "metadata": {
        "colab": {
          "base_uri": "https://localhost:8080/"
        },
        "id": "Ot0Vmq1F4AMI",
        "outputId": "fb2c1bf6-2f7f-4c07-9f1d-c35290968036"
      },
      "execution_count": 4,
      "outputs": [
        {
          "output_type": "stream",
          "name": "stdout",
          "text": [
            "5 3\n",
            "1 2\n"
          ]
        }
      ]
    },
    {
      "cell_type": "markdown",
      "source": [
        "n진법으로 표기된 string을 10진법 숫자로 변환하기"
      ],
      "metadata": {
        "id": "PS0fcJqx5GQN"
      }
    },
    {
      "cell_type": "code",
      "source": [
        "a,b=map(int,input().split())\n",
        "A=str(a)\n",
        "value=1\n",
        "ls=[]\n",
        "print(len(A))\n",
        "for i in range(len(A)):\n",
        "  print(f'{A[-1-i]}*{value}= {int(A[-1-i])*value}')\n",
        "  ls.append(int(A[-1-i])*value)\n",
        "  value*=b\n",
        "\n",
        "print(sum(ls))\n",
        "\n"
      ],
      "metadata": {
        "colab": {
          "base_uri": "https://localhost:8080/"
        },
        "id": "bs3aXSyd5KSQ",
        "outputId": "cd068445-d25b-4b99-a7ae-29978dc66055"
      },
      "execution_count": 13,
      "outputs": [
        {
          "output_type": "stream",
          "name": "stdout",
          "text": [
            "3212 5\n",
            "4\n",
            "2*1= 2\n",
            "1*5= 5\n",
            "2*25= 50\n",
            "3*125= 375\n",
            "432\n"
          ]
        }
      ]
    },
    {
      "cell_type": "code",
      "source": [
        "answer=0\n",
        "for idx, num in enumerate(str(a)[::-1]):\n",
        "  answer += int(num)*(b**idx)\n",
        "\n",
        "print(answer)"
      ],
      "metadata": {
        "colab": {
          "base_uri": "https://localhost:8080/"
        },
        "id": "o4-ey0E_9CC8",
        "outputId": "8e7f92e2-ed0d-49ff-c21a-9d56c28bdf0e"
      },
      "execution_count": 18,
      "outputs": [
        {
          "output_type": "stream",
          "name": "stdout",
          "text": [
            "432\n"
          ]
        }
      ]
    },
    {
      "cell_type": "code",
      "source": [
        "a,b=input().split()\n",
        "print(int(a,int(b)))"
      ],
      "metadata": {
        "colab": {
          "base_uri": "https://localhost:8080/"
        },
        "id": "ExsJmhkv-HxV",
        "outputId": "e3a629a2-c010-48e8-99f3-554274492000"
      },
      "execution_count": 31,
      "outputs": [
        {
          "output_type": "stream",
          "name": "stdout",
          "text": [
            "3212 5\n",
            "432\n"
          ]
        }
      ]
    },
    {
      "cell_type": "markdown",
      "source": [
        ""
      ],
      "metadata": {
        "id": "RFWIRLeg8zt7"
      }
    }
  ]
}