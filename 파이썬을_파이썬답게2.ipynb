{
  "nbformat": 4,
  "nbformat_minor": 0,
  "metadata": {
    "colab": {
      "name": "파이썬을 파이썬답게2",
      "provenance": [],
      "authorship_tag": "ABX9TyNYAfWxNXllh3hbJ3z5O5Ex",
      "include_colab_link": true
    },
    "kernelspec": {
      "name": "python3",
      "display_name": "Python 3"
    },
    "language_info": {
      "name": "python"
    }
  },
  "cells": [
    {
      "cell_type": "markdown",
      "metadata": {
        "id": "view-in-github",
        "colab_type": "text"
      },
      "source": [
        "<a href=\"https://colab.research.google.com/github/Madung2/pythonicpython/blob/main/%ED%8C%8C%EC%9D%B4%EC%8D%AC%EC%9D%84_%ED%8C%8C%EC%9D%B4%EC%8D%AC%EB%8B%B5%EA%B2%8C2.ipynb\" target=\"_parent\"><img src=\"https://colab.research.google.com/assets/colab-badge.svg\" alt=\"Open In Colab\"/></a>"
      ]
    },
    {
      "cell_type": "code",
      "execution_count": null,
      "metadata": {
        "id": "AvPSSpaq9zqm"
      },
      "outputs": [],
      "source": [
        ""
      ]
    },
    {
      "cell_type": "markdown",
      "source": [
        "2차원 리스트 뒤집기"
      ],
      "metadata": {
        "id": "g-xA6bQj--Ws"
      }
    },
    {
      "cell_type": "code",
      "source": [
        "mylist=[[1, 2, 3], [4, 5, 6], [7, 8, 9]]\n",
        "print(len(mylist))\n",
        "# relist=[0]*len(list[0])\n",
        "relist=[[] for i in range(len(mylist))]\n",
        "# relist= [[]*len(mylist)]\n",
        "print(relist)"
      ],
      "metadata": {
        "colab": {
          "base_uri": "https://localhost:8080/"
        },
        "id": "AW6tli9d_AXM",
        "outputId": "e71daa07-e47d-4877-cc0c-75015f3f634c"
      },
      "execution_count": null,
      "outputs": [
        {
          "output_type": "stream",
          "name": "stdout",
          "text": [
            "3\n",
            "[[], [], []]\n"
          ]
        }
      ]
    },
    {
      "cell_type": "code",
      "source": [
        "for i in range(len(mylist)):\n",
        "  for j in range(len(mylist[i])):\n",
        "    relist[i].append(mylist[j][i])\n",
        "print(relist)\n",
        "    "
      ],
      "metadata": {
        "colab": {
          "base_uri": "https://localhost:8080/"
        },
        "id": "dw0RYa9f_-mx",
        "outputId": "5fd4f1e2-47a6-4b5a-b152-cdfb3d3ef366"
      },
      "execution_count": null,
      "outputs": [
        {
          "output_type": "stream",
          "name": "stdout",
          "text": [
            "[[1, 4, 7], [2, 5, 8], [3, 6, 9]]\n"
          ]
        }
      ]
    },
    {
      "cell_type": "code",
      "source": [
        "mylist=[[1, 2, 3], [4, 5, 6], [7, 8, 9]]\n",
        "print(*mylist)\n",
        "print(list(zip(*mylist)))\n",
        "print(list(map(list,zip(*mylist))))"
      ],
      "metadata": {
        "colab": {
          "base_uri": "https://localhost:8080/"
        },
        "id": "LnPQOK6JFYVE",
        "outputId": "ee696ba6-dd8f-4a62-d6d9-d859117be46e"
      },
      "execution_count": null,
      "outputs": [
        {
          "output_type": "stream",
          "name": "stdout",
          "text": [
            "[1, 2, 3] [4, 5, 6] [7, 8, 9]\n",
            "[(1, 4, 7), (2, 5, 8), (3, 6, 9)]\n",
            "[[1, 4, 7], [2, 5, 8], [3, 6, 9]]\n"
          ]
        }
      ]
    },
    {
      "cell_type": "markdown",
      "source": [
        "zip은 각 iterable 요소들을 모으는 이터레이터를 만듭니다.\n",
        "튜플 이터레이터를 돌려주는데 i번째 튜플은 각 인자로 전달된 시퀀스나 이터러블의 i번째 요소를 포함합니다. "
      ],
      "metadata": {
        "id": "EPjcGIYZCTwp"
      }
    },
    {
      "cell_type": "code",
      "source": [
        "mylist = [1,2,3]\n",
        "new_list = [40,50,60]\n",
        "for i in zip(mylist, new_list):\n",
        "  print(i)"
      ],
      "metadata": {
        "colab": {
          "base_uri": "https://localhost:8080/"
        },
        "id": "7t-OCYtgCi_B",
        "outputId": "d555182b-9a2a-46f8-94c1-127098067fa6"
      },
      "execution_count": null,
      "outputs": [
        {
          "output_type": "stream",
          "name": "stdout",
          "text": [
            "(1, 40)\n",
            "(2, 50)\n",
            "(3, 60)\n"
          ]
        }
      ]
    },
    {
      "cell_type": "code",
      "source": [
        "list1 = [1, 2, 3, 4]\n",
        "list2 = [100, 120, 30, 300]\n",
        "list3 = [392, 2, 33, 1]\n",
        "for n1, n2, n3 in zip(list1, list2, list3):\n",
        "  print(n1,n2,n3)"
      ],
      "metadata": {
        "colab": {
          "base_uri": "https://localhost:8080/"
        },
        "id": "pettApp2CzQ9",
        "outputId": "c996d1b4-1b70-456e-cae2-7ed31e1e2667"
      },
      "execution_count": null,
      "outputs": [
        {
          "output_type": "stream",
          "name": "stdout",
          "text": [
            "1 100 392\n",
            "2 120 2\n",
            "3 30 33\n",
            "4 300 1\n"
          ]
        }
      ]
    },
    {
      "cell_type": "code",
      "source": [
        "animals = ['cat', 'dog', 'lion']\n",
        "sounds = ['meow', 'woof', 'roar']\n",
        "answer= dict(zip(animals, sounds))\n",
        "print(answer)"
      ],
      "metadata": {
        "colab": {
          "base_uri": "https://localhost:8080/"
        },
        "id": "pn34ienXDCeX",
        "outputId": "024e3a77-616c-40ef-f444-b90de4a61798"
      },
      "execution_count": null,
      "outputs": [
        {
          "output_type": "stream",
          "name": "stdout",
          "text": [
            "{'cat': 'meow', 'dog': 'woof', 'lion': 'roar'}\n"
          ]
        }
      ]
    },
    {
      "cell_type": "markdown",
      "source": [
        "i번째 원소와 i+1번째 원소"
      ],
      "metadata": {
        "id": "D1TXdhLxH9fM"
      }
    },
    {
      "cell_type": "code",
      "source": [
        "mylist=[83, 48, 13, 4, 71, 11]\n",
        "n=len(mylist)\n",
        "output=[]\n",
        "for i in range(0,n-1): #0부터 4까지\n",
        "  M=max(mylist[i],mylist[i+1])\n",
        "  m=min(mylist[i],mylist[i+1])\n",
        "  output.append(M-m)\n",
        "print(output)"
      ],
      "metadata": {
        "colab": {
          "base_uri": "https://localhost:8080/"
        },
        "id": "SOHHRlezH8fD",
        "outputId": "9f1fa478-fec3-4032-99b9-e0a9f6c1a6d3"
      },
      "execution_count": null,
      "outputs": [
        {
          "output_type": "stream",
          "name": "stdout",
          "text": [
            "6\n",
            "[35, 35, 9, 67, 60]\n"
          ]
        }
      ]
    },
    {
      "cell_type": "code",
      "source": [
        "#절대값 함수 abs를 사용할 수도 있다\n",
        "\n",
        "output=[]\n",
        "for i in range(len(mylist)-1):\n",
        "  output.append(abs(mylist[i]-mylist[i+1]))\n"
      ],
      "metadata": {
        "id": "IF84WB-KJone"
      },
      "execution_count": null,
      "outputs": []
    },
    {
      "cell_type": "code",
      "source": [
        "#zip을 사용하면 더 좋다\n",
        "\n",
        "output=[]\n",
        "for num1, num2 in zip(mylist, mylist[1:]):\n",
        "  output.append(abs(num1-num2))"
      ],
      "metadata": {
        "id": "Yvkuk40PJ_um"
      },
      "execution_count": null,
      "outputs": []
    },
    {
      "cell_type": "markdown",
      "source": [
        "모든 멤버의 type 변환하기\n"
      ],
      "metadata": {
        "id": "DJij-SvdLG0V"
      }
    },
    {
      "cell_type": "code",
      "source": [
        "input_=['1', '100', '33']\n",
        "print(list(map(int, input_)))"
      ],
      "metadata": {
        "colab": {
          "base_uri": "https://localhost:8080/"
        },
        "id": "qX7aS6edLKHQ",
        "outputId": "0398d5ed-9b0e-4a3e-d6be-bd8a0a1ffeaf"
      },
      "execution_count": 37,
      "outputs": [
        {
          "output_type": "stream",
          "name": "stdout",
          "text": [
            "[1, 100, 33]\n"
          ]
        }
      ]
    },
    {
      "cell_type": "markdown",
      "source": [
        "map 함수 응용하기"
      ],
      "metadata": {
        "id": "_5k2H4NuL-94"
      }
    },
    {
      "cell_type": "code",
      "source": [
        "input_=[[1, 2], [3, 4], [5]]\t\n",
        "print(list(map(len,input_)))"
      ],
      "metadata": {
        "colab": {
          "base_uri": "https://localhost:8080/"
        },
        "id": "OaRB1XCSL-O0",
        "outputId": "3a93b40b-67ae-4baf-fe20-d2b1484b5090"
      },
      "execution_count": 39,
      "outputs": [
        {
          "output_type": "stream",
          "name": "stdout",
          "text": [
            "[2, 2, 1]\n"
          ]
        }
      ]
    },
    {
      "cell_type": "markdown",
      "source": [
        "sequence 멤버를 하나로 이어붙이기"
      ],
      "metadata": {
        "id": "lpI5zRhKMiNz"
      }
    },
    {
      "cell_type": "code",
      "source": [
        "st=''\n",
        "for i in mylist:\n",
        "  st+=i\n",
        "print(st)"
      ],
      "metadata": {
        "id": "GbMj-PTtMhYN"
      },
      "execution_count": null,
      "outputs": []
    },
    {
      "cell_type": "code",
      "source": [
        "mylist=['1', '100', '33']\n",
        "answer= ''.join(mylist)\n",
        "print(answer)"
      ],
      "metadata": {
        "colab": {
          "base_uri": "https://localhost:8080/"
        },
        "id": "TRRR4JSeNPfj",
        "outputId": "bd2de65a-9dc1-40f4-fa37-8a71492d1db5"
      },
      "execution_count": 41,
      "outputs": [
        {
          "output_type": "stream",
          "name": "stdout",
          "text": [
            "110033\n"
          ]
        }
      ]
    },
    {
      "cell_type": "code",
      "source": [
        "for i in range(1,n+1):\n",
        "  print('*'*i)"
      ],
      "metadata": {
        "colab": {
          "base_uri": "https://localhost:8080/"
        },
        "id": "ubPWHNJaOR7G",
        "outputId": "305a439b-39b5-4176-88da-c3204a26e018"
      },
      "execution_count": 43,
      "outputs": [
        {
          "output_type": "stream",
          "name": "stdout",
          "text": [
            "*\n",
            "**\n",
            "***\n",
            "****\n",
            "*****\n",
            "******\n"
          ]
        }
      ]
    }
  ]
}